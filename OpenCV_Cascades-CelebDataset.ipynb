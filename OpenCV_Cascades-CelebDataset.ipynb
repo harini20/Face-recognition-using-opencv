{
 "cells": [
  {
   "cell_type": "code",
   "execution_count": 2,
   "metadata": {},
   "outputs": [],
   "source": [
    "# 1. Download data.zip from the celebrity faces dataset from kaggle at \n",
    "# https://www.kaggle.com/dansbecker/5-celebrity-faces-dataset/data\n",
    "\n",
    "# Important OpenCV face detection and classification links\n",
    "# https://realpython.com/blog/python/face-recognition-with-python/\n",
    "# https://www.superdatascience.com/opencv-face-detection/\n",
    "# https://www.superdatascience.com/opencv-face-recognition/"
   ]
  },
  {
   "cell_type": "code",
   "execution_count": 2,
   "metadata": {},
   "outputs": [],
   "source": [
    "#Load all necessary libraries\n",
    "import numpy as np\n",
    "import cv2 # opencv\n",
    "import os # control and access the directory structure in local machine\n",
    "from matplotlib import pyplot as plt\n",
    "import time\n"
   ]
  },
  {
   "cell_type": "code",
   "execution_count": 3,
   "metadata": {},
   "outputs": [],
   "source": [
    "os.chdir('C:/Users/HP/Documents/Python/faces/') #folder where I unzipped data.zip\n",
    "\n",
    "#OpenCV cascades (xml files) are typically stored at this location\n",
    "#C:\\Users\\<user>\\Miniconda3\\Library\\etc\\haarcascades\n",
    "haarcascades_path = os.listdir('C:/Users/HP/Miniconda3/Library/etc/haarcascades/')\n",
    "frontface_alt_cascade = 'C:/Users/HP/Miniconda3/Library/etc/haarcascades/haarcascade_frontalface_alt.xml'\n",
    "frontface_default_cascade = 'C:/Users/HP/Miniconda3/Library/etc/haarcascades/haarcascade_frontalface_default.xml'\n",
    "frontface_alt2_cascade = 'C:/Users/HP/Miniconda3/Library/etc/haarcascades/haarcascade_frontalface_alt2.xml'\n",
    "frontface_alt_tree_cascade = 'C:/Users/HP/Miniconda3/Library/etc/haarcascades/haarcascade_frontalface_alt2.xml'\n",
    "\n",
    "lbpcascadesPath = os.listdir(\"C:/Users/HP/Miniconda3/Library/etc/lbpcascades/\")\n",
    "\n",
    "lbp_frontface_path = \"C:/Users/HP/Miniconda3/Library/etc/lbpcascades/lbpcascade_frontalface.xml\"\n",
    "lbp_fronface_improved_path = \"C:/Users/HP/Miniconda3/Library/etc/lbpcascades/lbpcascade_frontalface_improved.xml\"\n",
    "lbp_frontface_profile_path = \"C:/Users/HP/Miniconda3/Library/etc/lbpcascades/lbpcascade_profileface.xml\""
   ]
  },
  {
   "cell_type": "code",
   "execution_count": 4,
   "metadata": {},
   "outputs": [],
   "source": [
    "#utility function to apply differenct cascade function on the images at difference scaleFactor\n",
    "def detect(faceCascade, gray_,  scaleFactor_ = 1.1):\n",
    "    faces = faceCascade.detectMultiScale(\n",
    "                    gray_,\n",
    "                    scaleFactor= scaleFactor_,\n",
    "                    minNeighbors=5,\n",
    "                    minSize=(30, 30),\n",
    "                    flags = cv2.CASCADE_SCALE_IMAGE\n",
    "                )\n",
    "    return faces"
   ]
  },
  {
   "cell_type": "code",
   "execution_count": 40,
   "metadata": {},
   "outputs": [
    {
     "name": "stdout",
     "output_type": "stream",
     "text": [
      "Time taken 3.510000 seconds\n",
      "9\n"
     ]
    }
   ],
   "source": [
    "# Code to test the detection accurace of Haar cascades\n",
    "faceCascade_default = cv2.CascadeClassifier(frontface_default_cascade)\n",
    "faceCascade_alt = cv2.CascadeClassifier(frontface_alt_cascade)\n",
    "faceCascade_alt2 = cv2.CascadeClassifier(frontface_alt2_cascade)\n",
    "faceCascade_alt_tree = cv2.CascadeClassifier(frontface_alt_tree_cascade)\n",
    "i = 0\n",
    "t1 = time.time()\n",
    "for imgfolder in os.listdir('train/'): #iterate thru each of the 5 celeb folders\n",
    "    if(imgfolder != '.DS_Store'):\n",
    "        for filename in os.listdir('train/' + imgfolder):# iterate thru each image in a celeb folder\n",
    "            filename = 'train/' + imgfolder + '/' + filename # build the path to the image file\n",
    "            if(filename.endswith('.jpg')):\n",
    "                #print(filename) # print the filename read. For debugging purpose only\n",
    "                img = cv2.imread(filename) # read the image using OpenCV\n",
    "                gray = cv2.cvtColor(img, cv2.COLOR_BGR2GRAY)\n",
    "                faces = detect(faceCascade_default, gray, 1.1)\n",
    "                if (len(faces)!=1):\n",
    "                    faces = detect(faceCascade_default, gray, 1.2)\n",
    "                    if(len(faces) != 1):\n",
    "                        faces = detect(faceCascade_alt2,gray, 1.1)\n",
    "                        if(len(faces) != 1):\n",
    "                            faces = detect(faceCascade_alt2,gray, 1.2)\n",
    "                            if(len(faces) != 1):\n",
    "                                faces = detect(faceCascade_alt, gray, 1.1)\n",
    "                                if(len(faces) != 1):\n",
    "                                    faces = detect(faceCascade_alt, gray, 1.2)\n",
    "                                    if(len(faces) != 1):\n",
    "                                        faces = detect(faceCascade_alt_tree, gray, 1.1)\n",
    "                                        if(len(faces) != 1):\n",
    "                                            faces = detect(faceCascade_alt_tree, gray, 1.2)\n",
    "                                            if(len(faces) != 1):\n",
    "                                                i = i + 1\n",
    "                                                continue\n",
    "                                                for (x, y, w, h) in faces:\n",
    "                                                    cv2.rectangle(img, (x, y), (x+w, y+h), (0, 255, 0), 2)\n",
    "                                                plt.imshow(img, cmap = 'gray', interpolation = 'bicubic') # display all images read\n",
    "                                                print(filename) # print the filename read. For debugging purpose only\n",
    "                                                plt.xticks([]), plt.yticks([])\n",
    "                                                plt.show()\n",
    "                                                \n",
    "\n",
    "t2 = time.time()\n",
    "print ('Time taken %f seconds' %  round((t2 - t1),2))\n",
    "print(i)"
   ]
  },
  {
   "cell_type": "code",
   "execution_count": 5,
   "metadata": {},
   "outputs": [],
   "source": [
    "# code that iterates thru the images in the celebrityfaces dataset and detects faces. Finally it\n",
    "# ... only displays those images that it can't detect the faces.\n",
    "lbp_frontfaceCascade = cv2.CascadeClassifier(lbp_frontface_path)\n",
    "lbp_fronfaceimprovedCascade = cv2.CascadeClassifier(lbp_fronface_improved_path)\n",
    "lbp_profileCascade = cv2.CascadeClassifier(lbp_frontface_profile_path)\n",
    "\n"
   ]
  },
  {
   "cell_type": "code",
   "execution_count": 38,
   "metadata": {},
   "outputs": [
    {
     "name": "stdout",
     "output_type": "stream",
     "text": [
      "Time taken 1.460000 seconds\n",
      "16\n"
     ]
    }
   ],
   "source": [
    "# Code to test the detection accurace of lbp cascades\n",
    "i = 0\n",
    "t1 = time.time()\n",
    "\n",
    "for imgfolder in os.listdir('train/'): #iterate thru each of the 5 celeb folders\n",
    "    if(imgfolder != '.DS_Store'):\n",
    "        for filename in os.listdir('train/' + imgfolder):# iterate thru each image in a celeb folder\n",
    "            filename = 'train/' + imgfolder + '/' + filename # build the path to the image file\n",
    "            if(filename.endswith('.jpg')):\n",
    "                #print(filename) # print the filename read. For debugging purpose only\n",
    "                img = cv2.imread(filename) # read the image using OpenCV\n",
    "                gray = cv2.cvtColor(img, cv2.COLOR_BGR2GRAY)\n",
    "                faces = detect(lbp_frontfaceCascade, gray, 1.1)\n",
    "                if(len(faces) != 1):\n",
    "                    faces = detect(lbp_frontfaceCascade, gray, 1.2)\n",
    "                    if(len(faces) != 1):\n",
    "                        faces = detect(lbp_fronfaceimprovedCascade, gray, 1.1)\n",
    "                        if(len(faces) != 1):\n",
    "                            faces = detect(lbp_fronfaceimprovedCascade, gray, 1.2)\n",
    "                            if(len(faces) != 1):\n",
    "                                faces = detect(lbp_profileCascade, gray, 1.1)\n",
    "                                if(len(faces) != 1):\n",
    "                                    faces = detect(lbp_profileCascade, gray, 1.2)\n",
    "                                    if(len(faces) != 1):\n",
    "                                        i = i +1\n",
    "                                        continue\n",
    "                                        for (x, y, w, h) in faces:\n",
    "                                            cv2.rectangle(img, (x, y), (x+w, y+h), (0, 255, 0), 2)\n",
    "                                        plt.imshow(img, cmap = 'gray', interpolation = 'bicubic') # display all images read\n",
    "                                        print(filename) # print the filename read. For debugging purpose only\n",
    "                                        plt.xticks([]), plt.yticks([])\n",
    "                                        plt.show()\n",
    "                    \n",
    "t2 = time.time()\n",
    "print ('Time taken %f seconds' %  np.round((t2 - t1),2))\n",
    "print(i)"
   ]
  },
  {
   "cell_type": "code",
   "execution_count": 6,
   "metadata": {},
   "outputs": [],
   "source": [
    "#function to detect face using OpenCV\n",
    "def detect_face(img, face_cascade):\n",
    "    #convert the test image to gray scale as opencv face detector expects gray images\n",
    "    gray = cv2.cvtColor(img, cv2.COLOR_BGR2GRAY)\n",
    "\n",
    "    #load OpenCV face detector, I am using LBP which is fast\n",
    "    #there is also a more accurate but slow: Haar classifier\n",
    "    #face_cascade = cv2.CascadeClassifier('opencv-files/lbpcascade_frontalface.xml')\n",
    "\n",
    "    #let's detect multiscale images(some images may be closer to camera than others)\n",
    "    #result is a list of faces\n",
    "    faces = face_cascade.detectMultiScale(gray, scaleFactor=1.1, minNeighbors=5);\n",
    "\n",
    "    #if no faces are detected then return original img\n",
    "    if (len(faces) == 0):\n",
    "        return None, None\n",
    "\n",
    "    #under the assumption that there will be only one face,\n",
    "    #extract the face area\n",
    "    (x, y, w, h) = faces[0]\n",
    "\n",
    "    #return only the face part of the image\n",
    "    return gray[y:y+w, x:x+h], faces[0]"
   ]
  },
  {
   "cell_type": "code",
   "execution_count": 7,
   "metadata": {},
   "outputs": [],
   "source": [
    "#this function will read all persons' training images, detect face from each image\n",
    "#and will return two lists of exactly same size, one list \n",
    "#of faces and another list of labels for each face\n",
    "def prepare_training_data(trainfolder = 'train/'):\n",
    "    \n",
    "    #list to hold all subject faces\n",
    "    faces = []\n",
    "    #list to hold labels for all subjects\n",
    "    labels = []\n",
    "    label_names = ['']\n",
    "    #lbp_frontfaceCascade = cv2.CascadeClassifier(lbp_frontface_path)\n",
    "    haar_faceCascade_default = cv2.CascadeClassifier(frontface_default_cascade)\n",
    "    detected_images = []\n",
    "    for imgfolder in os.listdir(trainfolder): #iterate thru each of the 5 celeb folders\n",
    "        if(imgfolder != '.DS_Store'):\n",
    "            label_names.append(imgfolder)\n",
    "            for filename in os.listdir(trainfolder + imgfolder):# iterate thru each image in a celeb folder\n",
    "                filename = trainfolder + imgfolder + '/' + filename # build the path to the image file\n",
    "                if(filename.endswith('.jpg')):\n",
    "                    img = cv2.imread(filename) # read the image using OpenCV\n",
    "                    #detect face\n",
    "                    face, rect = detect_face(img, haar_faceCascade_default) # lbp_frontfaceCascade)\n",
    "\n",
    "                    #------STEP-4--------\n",
    "                    #for the purpose of this tutorial\n",
    "                    #we will ignore faces that are not detected\n",
    "                    if face is not None:\n",
    "                        #add face to list of faces\n",
    "                        faces.append(face)\n",
    "                        #add label for this face\n",
    "                        labels.append(label_names.index(imgfolder))\n",
    "                        detected_images.append(filename)\n",
    "                        continue\n",
    "                        plt.imshow(face, cmap = 'gray', interpolation = 'bicubic') # display all images read\n",
    "                        plt.xticks([]), plt.yticks([])\n",
    "                        plt.show()\n",
    "\n",
    "                        \n",
    "\n",
    "    return faces, labels, detected_images, label_names"
   ]
  },
  {
   "cell_type": "code",
   "execution_count": 8,
   "metadata": {},
   "outputs": [
    {
     "name": "stdout",
     "output_type": "stream",
     "text": [
      "Preparing data...\n",
      "Data prepared\n",
      "Total faces:  150\n",
      "Total labels:  150\n",
      "rotate/ben_afflek/httpcsvkmeuaeccjpg_rotate.jpg\n"
     ]
    }
   ],
   "source": [
    "#let's first prepare our training data\n",
    "#data will be in two lists of same size\n",
    "#one list will contain all the faces\n",
    "#and the other list will contain respective labels for each face\n",
    "print(\"Preparing data...\")\n",
    "#instatiate haar has 5 cascades, lbp\n",
    "faces, labels, detectedimages, label_names = prepare_training_data('rotate/')\n",
    "print(\"Data prepared\")\n",
    "\n",
    "#print total faces and labels\n",
    "print(\"Total faces: \", len(faces))\n",
    "print(\"Total labels: \", len(labels))\n",
    "print(detectedimages[0])\n",
    "#print(labels)"
   ]
  },
  {
   "cell_type": "code",
   "execution_count": 11,
   "metadata": {},
   "outputs": [],
   "source": [
    "#create our LBPH face recognizer \n",
    "face_recognizer = cv2.face.LBPHFaceRecognizer_create()\n",
    "\n",
    "\n",
    "#or use EigenFaceRecognizer by replacing above line with \n",
    "#face_recognizer = cv2.face.createEigenFaceRecognizer()\n",
    "\n",
    "#or use FisherFaceRecognizer by replacing above line with \n",
    "#face_recognizer = cv2.face.createFisherFaceRecognizer()"
   ]
  },
  {
   "cell_type": "code",
   "execution_count": 13,
   "metadata": {},
   "outputs": [],
   "source": [
    "#train our face recognizer of our training faces\n",
    "#face_recognizer.train(faces, np.array(labels))\n",
    "face_recognizer.train(Xtrain, np.array(ytrain))"
   ]
  },
  {
   "cell_type": "code",
   "execution_count": 14,
   "metadata": {},
   "outputs": [],
   "source": [
    "#function to draw rectangle on image \n",
    "#according to given (x, y) coordinates and \n",
    "#given width and heigh\n",
    "def draw_rectangle(img, rect):\n",
    "    (x, y, w, h) = rect\n",
    "    cv2.rectangle(img, (x, y), (x+w, y+h), (0, 255, 0), 2)\n",
    " \n",
    "#function to draw text on give image starting from\n",
    "#passed (x, y) coordinates. \n",
    "def draw_text(img, text, x, y):\n",
    "     cv2.putText(img, text, (x, y), cv2.FONT_HERSHEY_PLAIN, 1.5, (0, 255, 0), 2)"
   ]
  },
  {
   "cell_type": "code",
   "execution_count": 19,
   "metadata": {},
   "outputs": [],
   "source": [
    "#Code to perform prediction on the Test dataset image\n",
    "def predict_train(face):\n",
    "    #make a copy of the image as we don't want to change original image\n",
    "    #img = test_img.copy()\n",
    "    #detect face from the image\n",
    "    #face, rect = detect_face(img, faceCascade_default) #lbp_frontfaceCascade)\n",
    "    #if(face is not None):\n",
    "        #predict the image using our face recognizer \n",
    "    label= face_recognizer.predict(face)\n",
    "        #get name of respective label returned by face recognizer\n",
    "        #print(label[0])\n",
    "    label_text = label_names[label[0]]\n",
    "\n",
    "        #draw a rectangle around face detected\n",
    "        #draw_rectangle(img, rect)\n",
    "        #draw name of predicted person\n",
    "        #draw_text(img, label_text, rect[0], rect[1]-5)\n",
    "\n",
    "    return face, label_text\n",
    "    #else:\n",
    "    #    return None, None"
   ]
  },
  {
   "cell_type": "code",
   "execution_count": 9,
   "metadata": {},
   "outputs": [],
   "source": [
    "#Code to perform cross validation to get Training Score...\n",
    "def cross_val(cv = 5):\n",
    "    scores = []\n",
    "    while(cv > 0):\n",
    "        cv = cv - 1\n",
    "        from sklearn.cross_validation import train_test_split\n",
    "        Xtrain, Xtest, ytrain, ytest = train_test_split(faces, labels)\n",
    "\n",
    "        #print(len(Xtrain))\n",
    "        #print(len(Xtest))\n",
    "        #print(ytrain)\n",
    "        #print(ytest)\n",
    "        face_recognizer = cv2.face.LBPHFaceRecognizer_create()\n",
    "        face_recognizer.train(Xtrain, np.array(ytrain))\n",
    "        test_labels = []\n",
    "        pred_labels = []\n",
    "        i = -1\n",
    "        for face in Xtest:\n",
    "            i = i + 1\n",
    "            label = face_recognizer.predict(face)\n",
    "            label_text = label_names[label[0]]\n",
    "            #face, label = predict_train(face)\n",
    "            #print(label_names)\n",
    "            #print(ytest[i])\n",
    "            test_labels.append(label_names[ytest[i]])\n",
    "            pred_labels.append(label_text)\n",
    "\n",
    "        from sklearn.metrics import accuracy_score\n",
    "        scores.append(accuracy_score(test_labels, pred_labels))\n",
    "    return scores\n",
    "\n",
    "        #from sklearn.metrics import confusion_matrix\n",
    "        #print(confusion_matrix(test_labels, pred_labels))\n"
   ]
  },
  {
   "cell_type": "code",
   "execution_count": 10,
   "metadata": {},
   "outputs": [
    {
     "name": "stdout",
     "output_type": "stream",
     "text": [
      "Cross Validation to get Training Score...\n"
     ]
    },
    {
     "name": "stderr",
     "output_type": "stream",
     "text": [
      "C:\\Users\\rithanya\\Miniconda3\\lib\\site-packages\\sklearn\\cross_validation.py:41: DeprecationWarning: This module was deprecated in version 0.18 in favor of the model_selection module into which all the refactored classes and functions are moved. Also note that the interface of the new CV iterators are different from that of this module. This module will be removed in 0.20.\n",
      "  \"This module will be removed in 0.20.\", DeprecationWarning)\n"
     ]
    },
    {
     "name": "stdout",
     "output_type": "stream",
     "text": [
      "[0.55263157894736847, 0.71052631578947367, 0.78947368421052633, 0.76315789473684215, 0.76315789473684215, 0.81578947368421051, 0.76315789473684215, 0.68421052631578949, 0.60526315789473684, 0.65789473684210531, 0.65789473684210531, 0.65789473684210531, 0.65789473684210531, 0.60526315789473684, 0.73684210526315785, 0.73684210526315785, 0.60526315789473684, 0.76315789473684215, 0.78947368421052633, 0.71052631578947367]\n",
      "0.701315789474\n"
     ]
    }
   ],
   "source": [
    "print('Cross Validation to get Training Score...')\n",
    "scores =  cross_val(20)\n",
    "print (scores)\n",
    "print(np.mean(scores))\n"
   ]
  },
  {
   "cell_type": "code",
   "execution_count": 43,
   "metadata": {},
   "outputs": [],
   "source": [
    "#Code to perform prediction on the Validation dataset image\n",
    "def predict_val(test_img):\n",
    "    #make a copy of the image as we don't want to change original image\n",
    "    img = test_img.copy()\n",
    "    #detect face from the image\n",
    "    haar_faceCascade_default = cv2.CascadeClassifier(frontface_default_cascade)\n",
    "    face, rect = detect_face(test_img, haar_faceCascade_default) #lbp_frontfaceCascade)\n",
    "    face_recognizer = cv2.face.LBPHFaceRecognizer_create()\n",
    "    face_recognizer.train(faces, np.array(labels))\n",
    "    if(face is not None):\n",
    "        #predict the image using our face recognizer \n",
    "        label= face_recognizer.predict(face)\n",
    "        #get name of respective label returned by face recognizer\n",
    "        #print(label[0])\n",
    "        label_text = label_names[label[0]]\n",
    "\n",
    "        #draw a rectangle around face detected\n",
    "        draw_rectangle(img, rect)\n",
    "        #draw name of predicted person\n",
    "        draw_text(img, label_text, rect[0], rect[1]-5)\n",
    "\n",
    "        return face, label_text, img\n",
    "    else:\n",
    "        return None, None, None"
   ]
  },
  {
   "cell_type": "code",
   "execution_count": 55,
   "metadata": {},
   "outputs": [
    {
     "name": "stdout",
     "output_type": "stream",
     "text": [
      "Predicting images...\n",
      "Validation Scores..\n",
      "0.56\n",
      "[[3 0 2 0 0]\n",
      " [0 2 2 1 0]\n",
      " [0 1 3 1 0]\n",
      " [1 1 1 2 0]\n",
      " [0 0 0 1 4]]\n"
     ]
    }
   ],
   "source": [
    "#code to perform validation on the model and print validation scores\n",
    "print(\"Predicting images...\")\n",
    "test_labels = []\n",
    "pred_labels = []\n",
    "for imgfolder in os.listdir('val/'): #iterate thru each of the 5 celeb folders\n",
    "    for filename in os.listdir('val/' + imgfolder):# iterate thru each image in a celeb folder\n",
    "        if(filename.endswith('.jpg')):\n",
    "            file_ = 'val/' + imgfolder + '/' + filename # build the path to the image file\n",
    "            #for file_ in detectedimages:\n",
    "            #perform a prediction\n",
    "            img = cv2.imread(file_)\n",
    "            pred_face, pred_label, pred_img = predict_val(img)\n",
    "            if(pred_face is not None):\n",
    "                test_labels.append(imgfolder)\n",
    "                pred_labels.append(pred_label)\n",
    "                continue\n",
    "                plt.imshow(pred_img, cmap = 'gray', interpolation = 'bicubic') # display all images read\n",
    "                plt.xticks([]), plt.yticks([])\n",
    "                plt.show()\n",
    "            else:\n",
    "                print(\"Prediction failed for %s\" %file_)\n",
    "                \n",
    "                \n",
    "print(\"Validation Scores..\")\n",
    "from sklearn.metrics import accuracy_score\n",
    "print(accuracy_score(test_labels, pred_labels))\n",
    "    \n",
    "from sklearn.metrics import confusion_matrix\n",
    "print(confusion_matrix(test_labels, pred_labels))\n",
    "\n"
   ]
  }
 ],
 "metadata": {
  "kernelspec": {
   "display_name": "Python 3",
   "language": "python",
   "name": "python3"
  },
  "language_info": {
   "codemirror_mode": {
    "name": "ipython",
    "version": 3
   },
   "file_extension": ".py",
   "mimetype": "text/x-python",
   "name": "python",
   "nbconvert_exporter": "python",
   "pygments_lexer": "ipython3",
   "version": "3.6.3"
  }
 },
 "nbformat": 4,
 "nbformat_minor": 2
}
